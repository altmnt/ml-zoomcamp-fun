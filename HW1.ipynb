{
 "cells": [
  {
   "cell_type": "code",
   "execution_count": 1,
   "id": "5b70ceec-973c-4338-97ab-2057d1ef6c7b",
   "metadata": {
    "scrolled": true
   },
   "outputs": [
    {
     "name": "stdout",
     "output_type": "stream",
     "text": [
      "Collecting pandas\n",
      "  Using cached pandas-2.3.2-cp312-cp312-manylinux_2_17_x86_64.manylinux2014_x86_64.whl.metadata (91 kB)\n",
      "Collecting polars\n",
      "  Downloading polars-1.33.1-cp39-abi3-manylinux_2_17_x86_64.manylinux2014_x86_64.whl.metadata (15 kB)\n",
      "Collecting numpy>=1.26.0 (from pandas)\n",
      "  Using cached numpy-2.3.3-cp312-cp312-manylinux_2_27_x86_64.manylinux_2_28_x86_64.whl.metadata (62 kB)\n",
      "Requirement already satisfied: python-dateutil>=2.8.2 in ./venv/lib/python3.12/site-packages (from pandas) (2.9.0.post0)\n",
      "Collecting pytz>=2020.1 (from pandas)\n",
      "  Using cached pytz-2025.2-py2.py3-none-any.whl.metadata (22 kB)\n",
      "Collecting tzdata>=2022.7 (from pandas)\n",
      "  Using cached tzdata-2025.2-py2.py3-none-any.whl.metadata (1.4 kB)\n",
      "Requirement already satisfied: six>=1.5 in ./venv/lib/python3.12/site-packages (from python-dateutil>=2.8.2->pandas) (1.17.0)\n",
      "Using cached pandas-2.3.2-cp312-cp312-manylinux_2_17_x86_64.manylinux2014_x86_64.whl (12.0 MB)\n",
      "Downloading polars-1.33.1-cp39-abi3-manylinux_2_17_x86_64.manylinux2014_x86_64.whl (39.7 MB)\n",
      "\u001b[2K   \u001b[90m━━━━━━━━━━━━━━━━━━━━━━━━━━━━━━━━━━━━━━━━\u001b[0m \u001b[32m39.7/39.7 MB\u001b[0m \u001b[31m57.7 MB/s\u001b[0m eta \u001b[36m0:00:00\u001b[0ma \u001b[36m0:00:01\u001b[0m\n",
      "\u001b[?25hUsing cached numpy-2.3.3-cp312-cp312-manylinux_2_27_x86_64.manylinux_2_28_x86_64.whl (16.6 MB)\n",
      "Using cached pytz-2025.2-py2.py3-none-any.whl (509 kB)\n",
      "Using cached tzdata-2025.2-py2.py3-none-any.whl (347 kB)\n",
      "Installing collected packages: pytz, tzdata, polars, numpy, pandas\n",
      "Successfully installed numpy-2.3.3 pandas-2.3.2 polars-1.33.1 pytz-2025.2 tzdata-2025.2\n",
      "\n",
      "\u001b[1m[\u001b[0m\u001b[34;49mnotice\u001b[0m\u001b[1;39;49m]\u001b[0m\u001b[39;49m A new release of pip is available: \u001b[0m\u001b[31;49m24.2\u001b[0m\u001b[39;49m -> \u001b[0m\u001b[32;49m25.2\u001b[0m\n",
      "\u001b[1m[\u001b[0m\u001b[34;49mnotice\u001b[0m\u001b[1;39;49m]\u001b[0m\u001b[39;49m To update, run: \u001b[0m\u001b[32;49mpip install --upgrade pip\u001b[0m\n"
     ]
    }
   ],
   "source": [
    "!pip install pandas polars"
   ]
  },
  {
   "cell_type": "code",
   "execution_count": 82,
   "id": "82e1e74c-2822-48f8-9646-bf500fbff94a",
   "metadata": {},
   "outputs": [
    {
     "data": {
      "text/plain": [
       "'2.3.2'"
      ]
     },
     "execution_count": 82,
     "metadata": {},
     "output_type": "execute_result"
    }
   ],
   "source": [
    "import pandas as pd\n",
    "import numpy as np\n",
    "pd.__version__"
   ]
  },
  {
   "cell_type": "code",
   "execution_count": 6,
   "id": "ec5b4360-3c3c-430b-b7d6-db4711f279bf",
   "metadata": {},
   "outputs": [
    {
     "data": {
      "text/plain": [
       "'1.33.1'"
      ]
     },
     "execution_count": 6,
     "metadata": {},
     "output_type": "execute_result"
    }
   ],
   "source": [
    "import polars\n",
    "polars.__version__ "
   ]
  },
  {
   "cell_type": "code",
   "execution_count": 7,
   "id": "27c2fc1d-202e-45c9-a898-56060f592f63",
   "metadata": {},
   "outputs": [
    {
     "name": "stdout",
     "output_type": "stream",
     "text": [
      "--2025-09-25 13:27:32--  https://raw.githubusercontent.com/alexeygrigorev/datasets/master/car_fuel_efficiency.csv\n",
      "Resolving raw.githubusercontent.com (raw.githubusercontent.com)... 185.199.109.133, 185.199.110.133, 185.199.111.133, ...\n",
      "Connecting to raw.githubusercontent.com (raw.githubusercontent.com)|185.199.109.133|:443... connected.\n",
      "HTTP request sent, awaiting response... 200 OK\n",
      "Length: 874188 (854K) [text/plain]\n",
      "Saving to: ‘car_fuel_efficiency.csv’\n",
      "\n",
      "car_fuel_efficiency 100%[===================>] 853.70K  --.-KB/s    in 0.05s   \n",
      "\n",
      "2025-09-25 13:27:33 (18.3 MB/s) - ‘car_fuel_efficiency.csv’ saved [874188/874188]\n",
      "\n"
     ]
    }
   ],
   "source": [
    "# get dataset Car Fuel Efficiency\n",
    "! wget https://raw.githubusercontent.com/alexeygrigorev/datasets/master/car_fuel_efficiency.csv"
   ]
  },
  {
   "cell_type": "code",
   "execution_count": 10,
   "id": "75517cbb-2bda-4deb-8f67-51f3c975bad8",
   "metadata": {},
   "outputs": [
    {
     "data": {
      "text/html": [
       "<div>\n",
       "<style scoped>\n",
       "    .dataframe tbody tr th:only-of-type {\n",
       "        vertical-align: middle;\n",
       "    }\n",
       "\n",
       "    .dataframe tbody tr th {\n",
       "        vertical-align: top;\n",
       "    }\n",
       "\n",
       "    .dataframe thead th {\n",
       "        text-align: right;\n",
       "    }\n",
       "</style>\n",
       "<table border=\"1\" class=\"dataframe\">\n",
       "  <thead>\n",
       "    <tr style=\"text-align: right;\">\n",
       "      <th></th>\n",
       "      <th>engine_displacement</th>\n",
       "      <th>num_cylinders</th>\n",
       "      <th>horsepower</th>\n",
       "      <th>vehicle_weight</th>\n",
       "      <th>acceleration</th>\n",
       "      <th>model_year</th>\n",
       "      <th>origin</th>\n",
       "      <th>fuel_type</th>\n",
       "      <th>drivetrain</th>\n",
       "      <th>num_doors</th>\n",
       "      <th>fuel_efficiency_mpg</th>\n",
       "    </tr>\n",
       "  </thead>\n",
       "  <tbody>\n",
       "    <tr>\n",
       "      <th>0</th>\n",
       "      <td>170</td>\n",
       "      <td>3.0</td>\n",
       "      <td>159.0</td>\n",
       "      <td>3413.433759</td>\n",
       "      <td>17.7</td>\n",
       "      <td>2003</td>\n",
       "      <td>Europe</td>\n",
       "      <td>Gasoline</td>\n",
       "      <td>All-wheel drive</td>\n",
       "      <td>0.0</td>\n",
       "      <td>13.231729</td>\n",
       "    </tr>\n",
       "    <tr>\n",
       "      <th>1</th>\n",
       "      <td>130</td>\n",
       "      <td>5.0</td>\n",
       "      <td>97.0</td>\n",
       "      <td>3149.664934</td>\n",
       "      <td>17.8</td>\n",
       "      <td>2007</td>\n",
       "      <td>USA</td>\n",
       "      <td>Gasoline</td>\n",
       "      <td>Front-wheel drive</td>\n",
       "      <td>0.0</td>\n",
       "      <td>13.688217</td>\n",
       "    </tr>\n",
       "    <tr>\n",
       "      <th>2</th>\n",
       "      <td>170</td>\n",
       "      <td>NaN</td>\n",
       "      <td>78.0</td>\n",
       "      <td>3079.038997</td>\n",
       "      <td>15.1</td>\n",
       "      <td>2018</td>\n",
       "      <td>Europe</td>\n",
       "      <td>Gasoline</td>\n",
       "      <td>Front-wheel drive</td>\n",
       "      <td>0.0</td>\n",
       "      <td>14.246341</td>\n",
       "    </tr>\n",
       "    <tr>\n",
       "      <th>3</th>\n",
       "      <td>220</td>\n",
       "      <td>4.0</td>\n",
       "      <td>NaN</td>\n",
       "      <td>2542.392402</td>\n",
       "      <td>20.2</td>\n",
       "      <td>2009</td>\n",
       "      <td>USA</td>\n",
       "      <td>Diesel</td>\n",
       "      <td>All-wheel drive</td>\n",
       "      <td>2.0</td>\n",
       "      <td>16.912736</td>\n",
       "    </tr>\n",
       "    <tr>\n",
       "      <th>4</th>\n",
       "      <td>210</td>\n",
       "      <td>1.0</td>\n",
       "      <td>140.0</td>\n",
       "      <td>3460.870990</td>\n",
       "      <td>14.4</td>\n",
       "      <td>2009</td>\n",
       "      <td>Europe</td>\n",
       "      <td>Gasoline</td>\n",
       "      <td>All-wheel drive</td>\n",
       "      <td>2.0</td>\n",
       "      <td>12.488369</td>\n",
       "    </tr>\n",
       "  </tbody>\n",
       "</table>\n",
       "</div>"
      ],
      "text/plain": [
       "   engine_displacement  num_cylinders  horsepower  vehicle_weight  \\\n",
       "0                  170            3.0       159.0     3413.433759   \n",
       "1                  130            5.0        97.0     3149.664934   \n",
       "2                  170            NaN        78.0     3079.038997   \n",
       "3                  220            4.0         NaN     2542.392402   \n",
       "4                  210            1.0       140.0     3460.870990   \n",
       "\n",
       "   acceleration  model_year  origin fuel_type         drivetrain  num_doors  \\\n",
       "0          17.7        2003  Europe  Gasoline    All-wheel drive        0.0   \n",
       "1          17.8        2007     USA  Gasoline  Front-wheel drive        0.0   \n",
       "2          15.1        2018  Europe  Gasoline  Front-wheel drive        0.0   \n",
       "3          20.2        2009     USA    Diesel    All-wheel drive        2.0   \n",
       "4          14.4        2009  Europe  Gasoline    All-wheel drive        2.0   \n",
       "\n",
       "   fuel_efficiency_mpg  \n",
       "0            13.231729  \n",
       "1            13.688217  \n",
       "2            14.246341  \n",
       "3            16.912736  \n",
       "4            12.488369  "
      ]
     },
     "execution_count": 10,
     "metadata": {},
     "output_type": "execute_result"
    }
   ],
   "source": [
    "ds_pandas = pd.read_csv('car_fuel_efficiency.csv')\n",
    "ds_pandas.head()"
   ]
  },
  {
   "cell_type": "code",
   "execution_count": 14,
   "id": "4d7fd44d-179a-4033-abf3-494f19b1676e",
   "metadata": {},
   "outputs": [
    {
     "data": {
      "text/html": [
       "<div><style>\n",
       ".dataframe > thead > tr,\n",
       ".dataframe > tbody > tr {\n",
       "  text-align: right;\n",
       "  white-space: pre-wrap;\n",
       "}\n",
       "</style>\n",
       "<small>shape: (5, 11)</small><table border=\"1\" class=\"dataframe\"><thead><tr><th>engine_displacement</th><th>num_cylinders</th><th>horsepower</th><th>vehicle_weight</th><th>acceleration</th><th>model_year</th><th>origin</th><th>fuel_type</th><th>drivetrain</th><th>num_doors</th><th>fuel_efficiency_mpg</th></tr><tr><td>i64</td><td>i64</td><td>i64</td><td>f64</td><td>f64</td><td>i64</td><td>str</td><td>str</td><td>str</td><td>i64</td><td>f64</td></tr></thead><tbody><tr><td>170</td><td>3</td><td>159</td><td>3413.433759</td><td>17.7</td><td>2003</td><td>&quot;Europe&quot;</td><td>&quot;Gasoline&quot;</td><td>&quot;All-wheel drive&quot;</td><td>0</td><td>13.231729</td></tr><tr><td>130</td><td>5</td><td>97</td><td>3149.664934</td><td>17.8</td><td>2007</td><td>&quot;USA&quot;</td><td>&quot;Gasoline&quot;</td><td>&quot;Front-wheel drive&quot;</td><td>0</td><td>13.688217</td></tr><tr><td>170</td><td>null</td><td>78</td><td>3079.038997</td><td>15.1</td><td>2018</td><td>&quot;Europe&quot;</td><td>&quot;Gasoline&quot;</td><td>&quot;Front-wheel drive&quot;</td><td>0</td><td>14.246341</td></tr><tr><td>220</td><td>4</td><td>null</td><td>2542.392402</td><td>20.2</td><td>2009</td><td>&quot;USA&quot;</td><td>&quot;Diesel&quot;</td><td>&quot;All-wheel drive&quot;</td><td>2</td><td>16.912736</td></tr><tr><td>210</td><td>1</td><td>140</td><td>3460.87099</td><td>14.4</td><td>2009</td><td>&quot;Europe&quot;</td><td>&quot;Gasoline&quot;</td><td>&quot;All-wheel drive&quot;</td><td>2</td><td>12.488369</td></tr></tbody></table></div>"
      ],
      "text/plain": [
       "shape: (5, 11)\n",
       "┌───────────┬───────────┬───────────┬───────────┬───┬───────────┬───────────┬───────────┬──────────┐\n",
       "│ engine_di ┆ num_cylin ┆ horsepowe ┆ vehicle_w ┆ … ┆ fuel_type ┆ drivetrai ┆ num_doors ┆ fuel_eff │\n",
       "│ splacemen ┆ ders      ┆ r         ┆ eight     ┆   ┆ ---       ┆ n         ┆ ---       ┆ iciency_ │\n",
       "│ t         ┆ ---       ┆ ---       ┆ ---       ┆   ┆ str       ┆ ---       ┆ i64       ┆ mpg      │\n",
       "│ ---       ┆ i64       ┆ i64       ┆ f64       ┆   ┆           ┆ str       ┆           ┆ ---      │\n",
       "│ i64       ┆           ┆           ┆           ┆   ┆           ┆           ┆           ┆ f64      │\n",
       "╞═══════════╪═══════════╪═══════════╪═══════════╪═══╪═══════════╪═══════════╪═══════════╪══════════╡\n",
       "│ 170       ┆ 3         ┆ 159       ┆ 3413.4337 ┆ … ┆ Gasoline  ┆ All-wheel ┆ 0         ┆ 13.23172 │\n",
       "│           ┆           ┆           ┆ 59        ┆   ┆           ┆ drive     ┆           ┆ 9        │\n",
       "│ 130       ┆ 5         ┆ 97        ┆ 3149.6649 ┆ … ┆ Gasoline  ┆ Front-whe ┆ 0         ┆ 13.68821 │\n",
       "│           ┆           ┆           ┆ 34        ┆   ┆           ┆ el drive  ┆           ┆ 7        │\n",
       "│ 170       ┆ null      ┆ 78        ┆ 3079.0389 ┆ … ┆ Gasoline  ┆ Front-whe ┆ 0         ┆ 14.24634 │\n",
       "│           ┆           ┆           ┆ 97        ┆   ┆           ┆ el drive  ┆           ┆ 1        │\n",
       "│ 220       ┆ 4         ┆ null      ┆ 2542.3924 ┆ … ┆ Diesel    ┆ All-wheel ┆ 2         ┆ 16.91273 │\n",
       "│           ┆           ┆           ┆ 02        ┆   ┆           ┆ drive     ┆           ┆ 6        │\n",
       "│ 210       ┆ 1         ┆ 140       ┆ 3460.8709 ┆ … ┆ Gasoline  ┆ All-wheel ┆ 2         ┆ 12.48836 │\n",
       "│           ┆           ┆           ┆ 9         ┆   ┆           ┆ drive     ┆           ┆ 9        │\n",
       "└───────────┴───────────┴───────────┴───────────┴───┴───────────┴───────────┴───────────┴──────────┘"
      ]
     },
     "execution_count": 14,
     "metadata": {},
     "output_type": "execute_result"
    }
   ],
   "source": [
    "ds_polars = polars.read_csv('car_fuel_efficiency.csv')\n",
    "ds_polars.head()\n",
    "#signature is the same but the output is different"
   ]
  },
  {
   "cell_type": "code",
   "execution_count": 74,
   "id": "2823aa4a-8a6d-4866-a6c5-4758588a58e6",
   "metadata": {},
   "outputs": [
    {
     "name": "stdout",
     "output_type": "stream",
     "text": [
      "9704\n",
      "106744\n",
      "(9704, 11)\n",
      "engine_displacement    9704\n",
      "num_cylinders          9222\n",
      "horsepower             8996\n",
      "vehicle_weight         9704\n",
      "acceleration           8774\n",
      "model_year             9704\n",
      "origin                 9704\n",
      "fuel_type              9704\n",
      "drivetrain             9704\n",
      "num_doors              9202\n",
      "fuel_efficiency_mpg    9704\n",
      "dtype: int64\n"
     ]
    }
   ],
   "source": [
    "# Q2 PANDAS\n",
    "print(len(ds_pandas))\n",
    "print(ds_pandas.size) # rows x cols\n",
    "print(ds_pandas.shape)\n",
    "print(ds_pandas.count()) # non na vals\n",
    "\n"
   ]
  },
  {
   "cell_type": "code",
   "execution_count": 25,
   "id": "c5c385c8-5394-4f37-ae14-9fd677dad77c",
   "metadata": {},
   "outputs": [
    {
     "name": "stdout",
     "output_type": "stream",
     "text": [
      "9704\n",
      "(9704, 11)\n",
      "shape: (1, 11)\n",
      "┌───────────┬───────────┬───────────┬───────────┬───┬───────────┬───────────┬───────────┬──────────┐\n",
      "│ engine_di ┆ num_cylin ┆ horsepowe ┆ vehicle_w ┆ … ┆ fuel_type ┆ drivetrai ┆ num_doors ┆ fuel_eff │\n",
      "│ splacemen ┆ ders      ┆ r         ┆ eight     ┆   ┆ ---       ┆ n         ┆ ---       ┆ iciency_ │\n",
      "│ t         ┆ ---       ┆ ---       ┆ ---       ┆   ┆ u32       ┆ ---       ┆ u32       ┆ mpg      │\n",
      "│ ---       ┆ u32       ┆ u32       ┆ u32       ┆   ┆           ┆ u32       ┆           ┆ ---      │\n",
      "│ u32       ┆           ┆           ┆           ┆   ┆           ┆           ┆           ┆ u32      │\n",
      "╞═══════════╪═══════════╪═══════════╪═══════════╪═══╪═══════════╪═══════════╪═══════════╪══════════╡\n",
      "│ 9704      ┆ 9222      ┆ 8996      ┆ 9704      ┆ … ┆ 9704      ┆ 9704      ┆ 9202      ┆ 9704     │\n",
      "└───────────┴───────────┴───────────┴───────────┴───┴───────────┴───────────┴───────────┴──────────┘\n"
     ]
    }
   ],
   "source": [
    "# Q2 POLARS\n",
    "print(len(ds_polars))\n",
    "print(ds_polars.shape)\n",
    "print(ds_polars.count()) # non na vals"
   ]
  },
  {
   "cell_type": "code",
   "execution_count": 41,
   "id": "7566ea50-9bf2-43a7-8c6c-5b0a05b76d10",
   "metadata": {},
   "outputs": [
    {
     "name": "stdout",
     "output_type": "stream",
     "text": [
      "['Gasoline' 'Diesel']\n",
      "['Gasoline' 'Diesel']\n",
      "---\n",
      "shape: (2,)\n",
      "Series: 'fuel_type' [str]\n",
      "[\n",
      "\t\"Diesel\"\n",
      "\t\"Gasoline\"\n",
      "]\n"
     ]
    }
   ],
   "source": [
    "# Q3\n",
    "print(pd.unique(ds_pandas[\"fuel_type\"])) \n",
    "print(ds_pandas[\"fuel_type\"].unique())\n",
    "print(\"---\")\n",
    "print(ds_polars[\"fuel_type\"].unique())"
   ]
  },
  {
   "cell_type": "code",
   "execution_count": 84,
   "id": "081ac9bf-c811-4fc3-85b5-65108ae78933",
   "metadata": {},
   "outputs": [
    {
     "name": "stdout",
     "output_type": "stream",
     "text": [
      "4\n",
      "4\n",
      "0\n",
      "-----\n",
      "4\n"
     ]
    }
   ],
   "source": [
    "# Q4\n",
    "print((ds_pandas.isna().sum()>0).sum())\n",
    "print((ds_pandas.isnull().sum()>0).sum()) # in pandas above is the same\n",
    "print(((ds_pandas == \"\").sum()>0).sum())\n",
    "\n",
    "print(\"-----\")\n",
    "\n",
    "# print(ds_polars.is_null().sum()) - that would throw an err in polars bc is_null should be applied to cols only\n",
    "print(np.sum([ds_polars[c].is_null().any() for c in ds_polars.columns]))\n",
    "# I feel there should be a cleaner way rather than column iteration but I'm lazy to check\n"
   ]
  },
  {
   "cell_type": "code",
   "execution_count": 91,
   "id": "469ef7ef-181f-46a7-81c5-6db9d12c2c53",
   "metadata": {},
   "outputs": [
    {
     "name": "stdout",
     "output_type": "stream",
     "text": [
      "23.759122836520497\n",
      "23.759122836520497\n"
     ]
    }
   ],
   "source": [
    "# Q5\n",
    "\n",
    "print(ds_pandas[ds_pandas[\"origin\"] == \"Asia\"][\"fuel_efficiency_mpg\"].max())\n",
    "print(ds_polars.filter(polars.col(\"origin\") == \"Asia\")[\"fuel_efficiency_mpg\"].max())"
   ]
  },
  {
   "cell_type": "code",
   "execution_count": 123,
   "id": "96eb0265-4071-4215-9237-f38fb36364ef",
   "metadata": {},
   "outputs": [
    {
     "name": "stdout",
     "output_type": "stream",
     "text": [
      "real_median=np.float64(149.0)\n",
      "152.0\n",
      "fake_median=np.float64(152.0)\n"
     ]
    }
   ],
   "source": [
    "# Q6 Pandas\n",
    "real_median = ds_pandas['horsepower'].median()\n",
    "print(f\"{real_median=}\")\n",
    "\n",
    "print((most_used:=ds_pandas['horsepower'].value_counts().idxmax()))\n",
    "\n",
    "fake_median = ds_pandas['horsepower'].fillna(most_used).median()\n",
    "print(f\"{fake_median=}\")\n"
   ]
  },
  {
   "cell_type": "code",
   "execution_count": 167,
   "id": "9ab39ecd-d38d-485d-b0dc-9d7f39cd458f",
   "metadata": {},
   "outputs": [
    {
     "name": "stdout",
     "output_type": "stream",
     "text": [
      "149.0\n",
      "152\n",
      "152.0\n"
     ]
    }
   ],
   "source": [
    "# Q6 Polars\n",
    "print((real_median:= ds_polars['horsepower'].median()))\n",
    "# i bet there is more efficient way for below\n",
    "print((most_used:=ds_polars['horsepower'].filter(ds_polars['horsepower'].is_not_null()).value_counts(sort=True)['horsepower'][0]))\n",
    "print(ds_polars['horsepower'].fill_null(most_used).median())"
   ]
  },
  {
   "cell_type": "code",
   "execution_count": 215,
   "id": "207ff16a-901b-473a-b392-c7ba002c3374",
   "metadata": {},
   "outputs": [
    {
     "data": {
      "text/plain": [
       "np.float64(0.5187709081074016)"
      ]
     },
     "execution_count": 215,
     "metadata": {},
     "output_type": "execute_result"
    }
   ],
   "source": [
    "# Q7\n",
    "\n",
    "#     Select all the cars from Asia\n",
    "asian_cars = ds_pandas[ds_pandas['origin'] == 'Asia']\n",
    "#     Select only columns vehicle_weight and model_year\n",
    "asian_cars = asian_cars[['vehicle_weight','model_year']]\n",
    "#     Select the first 7 values\n",
    "asian_cars = asian_cars.head(7)\n",
    "#     Get the underlying NumPy array. Let's call it X.\n",
    "X = asian_cars.to_numpy() # YEAR as a numeric feature lol\n",
    "#     Compute matrix-matrix multiplication between the transpose of X and X. To get the transpose, use X.T. Let's call the result XTX.\n",
    "XTX = X.T@X # this will be square and invertible btw\n",
    "#     Invert XTX.\n",
    "XTX_prime = np.linalg.inv(XTX)\n",
    "#     Create an array y with values [1100, 1300, 800, 900, 1000, 1100, 1200].\n",
    "y = np.array([1100, 1300, 800, 900, 1000, 1100, 1200])\n",
    "#     Multiply the inverse of XTX with the transpose of X, and then multiply the result by y. Call the result w.\n",
    "w = XTX_prime @ X.T @ y #  Projection matrix times y\n",
    "#     What's the sum of all the elements of the result?\n",
    "w.sum()\n"
   ]
  }
 ],
 "metadata": {
  "kernelspec": {
   "display_name": "Python 3 (ipykernel)",
   "language": "python",
   "name": "python3"
  },
  "language_info": {
   "codemirror_mode": {
    "name": "ipython",
    "version": 3
   },
   "file_extension": ".py",
   "mimetype": "text/x-python",
   "name": "python",
   "nbconvert_exporter": "python",
   "pygments_lexer": "ipython3",
   "version": "3.12.7"
  }
 },
 "nbformat": 4,
 "nbformat_minor": 5
}
