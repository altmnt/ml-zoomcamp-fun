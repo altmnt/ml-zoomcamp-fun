{
 "cells": [
  {
   "cell_type": "code",
   "execution_count": 1,
   "id": "9bd5794f-378f-44ce-925f-f35d2a774993",
   "metadata": {},
   "outputs": [],
   "source": [
    "import pandas as pd"
   ]
  },
  {
   "cell_type": "code",
   "execution_count": 2,
   "id": "84e3c72f-1888-4227-ace9-6cf2e1658ca5",
   "metadata": {},
   "outputs": [],
   "source": [
    "df = pd.read_csv(\"car_fuel_efficiency.csv\")"
   ]
  },
  {
   "cell_type": "code",
   "execution_count": 3,
   "id": "849cd66a-ad34-44f9-9f29-3414e6458a1d",
   "metadata": {},
   "outputs": [
    {
     "data": {
      "text/plain": [
       "engine_displacement      int64\n",
       "num_cylinders          float64\n",
       "horsepower             float64\n",
       "vehicle_weight         float64\n",
       "acceleration           float64\n",
       "model_year               int64\n",
       "origin                  object\n",
       "fuel_type               object\n",
       "drivetrain              object\n",
       "num_doors              float64\n",
       "fuel_efficiency_mpg    float64\n",
       "dtype: object"
      ]
     },
     "execution_count": 3,
     "metadata": {},
     "output_type": "execute_result"
    }
   ],
   "source": [
    "df.dtypes"
   ]
  },
  {
   "cell_type": "code",
   "execution_count": 4,
   "id": "5ae4037c-9010-4da3-97cf-57f6d83fd82e",
   "metadata": {},
   "outputs": [],
   "source": [
    "df=df[[\n",
    "    'engine_displacement',\n",
    "    'horsepower',\n",
    "    'vehicle_weight',\n",
    "    'model_year',\n",
    "    'fuel_efficiency_mpg'\n",
    "]]\n"
   ]
  },
  {
   "cell_type": "code",
   "execution_count": 5,
   "id": "705e77e0-3fee-47e0-b663-8897815732db",
   "metadata": {},
   "outputs": [
    {
     "data": {
      "text/html": [
       "<div>\n",
       "<style scoped>\n",
       "    .dataframe tbody tr th:only-of-type {\n",
       "        vertical-align: middle;\n",
       "    }\n",
       "\n",
       "    .dataframe tbody tr th {\n",
       "        vertical-align: top;\n",
       "    }\n",
       "\n",
       "    .dataframe thead th {\n",
       "        text-align: right;\n",
       "    }\n",
       "</style>\n",
       "<table border=\"1\" class=\"dataframe\">\n",
       "  <thead>\n",
       "    <tr style=\"text-align: right;\">\n",
       "      <th></th>\n",
       "      <th>engine_displacement</th>\n",
       "      <th>horsepower</th>\n",
       "      <th>vehicle_weight</th>\n",
       "      <th>model_year</th>\n",
       "      <th>fuel_efficiency_mpg</th>\n",
       "    </tr>\n",
       "  </thead>\n",
       "  <tbody>\n",
       "    <tr>\n",
       "      <th>0</th>\n",
       "      <td>170</td>\n",
       "      <td>159.0</td>\n",
       "      <td>3413.433759</td>\n",
       "      <td>2003</td>\n",
       "      <td>13.231729</td>\n",
       "    </tr>\n",
       "    <tr>\n",
       "      <th>1</th>\n",
       "      <td>130</td>\n",
       "      <td>97.0</td>\n",
       "      <td>3149.664934</td>\n",
       "      <td>2007</td>\n",
       "      <td>13.688217</td>\n",
       "    </tr>\n",
       "    <tr>\n",
       "      <th>2</th>\n",
       "      <td>170</td>\n",
       "      <td>78.0</td>\n",
       "      <td>3079.038997</td>\n",
       "      <td>2018</td>\n",
       "      <td>14.246341</td>\n",
       "    </tr>\n",
       "    <tr>\n",
       "      <th>3</th>\n",
       "      <td>220</td>\n",
       "      <td>NaN</td>\n",
       "      <td>2542.392402</td>\n",
       "      <td>2009</td>\n",
       "      <td>16.912736</td>\n",
       "    </tr>\n",
       "    <tr>\n",
       "      <th>4</th>\n",
       "      <td>210</td>\n",
       "      <td>140.0</td>\n",
       "      <td>3460.870990</td>\n",
       "      <td>2009</td>\n",
       "      <td>12.488369</td>\n",
       "    </tr>\n",
       "  </tbody>\n",
       "</table>\n",
       "</div>"
      ],
      "text/plain": [
       "   engine_displacement  horsepower  vehicle_weight  model_year  \\\n",
       "0                  170       159.0     3413.433759        2003   \n",
       "1                  130        97.0     3149.664934        2007   \n",
       "2                  170        78.0     3079.038997        2018   \n",
       "3                  220         NaN     2542.392402        2009   \n",
       "4                  210       140.0     3460.870990        2009   \n",
       "\n",
       "   fuel_efficiency_mpg  \n",
       "0            13.231729  \n",
       "1            13.688217  \n",
       "2            14.246341  \n",
       "3            16.912736  \n",
       "4            12.488369  "
      ]
     },
     "execution_count": 5,
     "metadata": {},
     "output_type": "execute_result"
    }
   ],
   "source": [
    "df.head()"
   ]
  },
  {
   "cell_type": "code",
   "execution_count": 6,
   "id": "6fb823dd-8e6e-400c-b35a-2688a67d19a0",
   "metadata": {},
   "outputs": [
    {
     "data": {
      "text/plain": [
       "24"
      ]
     },
     "execution_count": 6,
     "metadata": {},
     "output_type": "execute_result"
    }
   ],
   "source": [
    "df.model_year.nunique()"
   ]
  },
  {
   "cell_type": "code",
   "execution_count": 7,
   "id": "6ad1a0a8-c725-430b-a6d4-6ffcb3d9b30e",
   "metadata": {},
   "outputs": [],
   "source": [
    "import matplotlib.pyplot as plt\n",
    "import seaborn as sns\n",
    "%matplotlib inline"
   ]
  },
  {
   "cell_type": "code",
   "execution_count": 8,
   "id": "68fc9dc3-1712-41e9-9f2f-d9fc88ee82e3",
   "metadata": {},
   "outputs": [
    {
     "data": {
      "text/plain": [
       "<Axes: xlabel='fuel_efficiency_mpg', ylabel='Count'>"
      ]
     },
     "execution_count": 8,
     "metadata": {},
     "output_type": "execute_result"
    },
    {
     "data": {
      "image/png": "[encoded data removed]",
      "text/plain": [
       "<Figure size 640x480 with 1 Axes>"
      ]
     },
     "metadata": {},
     "output_type": "display_data"
    }
   ],
   "source": [
    "sns.histplot(df.fuel_efficiency_mpg, bins=100)\n"
   ]
  },
  {
   "cell_type": "code",
   "execution_count": 9,
   "id": "e98d35b6-0a11-4e95-9cbe-cc5bba8f0209",
   "metadata": {},
   "outputs": [
    {
     "data": {
      "text/plain": [
       "np.float64(149.0)"
      ]
     },
     "execution_count": 9,
     "metadata": {},
     "output_type": "execute_result"
    }
   ],
   "source": [
    "df.horsepower.median()"
   ]
  },
  {
   "cell_type": "code",
   "execution_count": 10,
   "id": "8cd2fcc8-2e97-4314-a66a-163e47ad1d4c",
   "metadata": {},
   "outputs": [
    {
     "data": {
      "text/plain": [
       "engine_displacement      0\n",
       "horsepower             708\n",
       "vehicle_weight           0\n",
       "model_year               0\n",
       "fuel_efficiency_mpg      0\n",
       "dtype: int64"
      ]
     },
     "execution_count": 10,
     "metadata": {},
     "output_type": "execute_result"
    }
   ],
   "source": [
    "df.isnull().sum()"
   ]
  },
  {
   "cell_type": "code",
   "execution_count": 11,
   "id": "09842da9-170f-45c6-97dd-a8f32a4336d7",
   "metadata": {},
   "outputs": [
    {
     "data": {
      "text/plain": [
       "9704"
      ]
     },
     "execution_count": 11,
     "metadata": {},
     "output_type": "execute_result"
    }
   ],
   "source": [
    "# from sklearn.model_selection import train_test_split ???\n",
    "\n",
    "n = len(df)\n",
    "n_test = int(.2*n)\n",
    "n_val = int(.2*n)\n",
    "n_train = n - n_test - n_val\n",
    "n"
   ]
  },
  {
   "cell_type": "code",
   "execution_count": 12,
   "id": "8a55e445-c272-4334-82a2-84f93fd9b56e",
   "metadata": {},
   "outputs": [
    {
     "name": "stdout",
     "output_type": "stream",
     "text": [
      "9704\n"
     ]
    },
    {
     "data": {
      "text/plain": [
       "(1940, 1940, 5824)"
      ]
     },
     "execution_count": 12,
     "metadata": {},
     "output_type": "execute_result"
    }
   ],
   "source": [
    "import numpy as np\n",
    "print( np.sum([n_test, n_val, n_train]))\n",
    "n_test, n_val, n_train"
   ]
  },
  {
   "cell_type": "code",
   "execution_count": 13,
   "id": "75623a7d-3751-4e9e-ba1d-7daf72f205c4",
   "metadata": {},
   "outputs": [],
   "source": [
    "np.random.seed(42)\n",
    "np.random.shuffle(idx:=np.arange(n))\n",
    "    \n",
    "df_train = df.iloc[idx[:n_train]]\n",
    "df_val = df.iloc[idx[n_train:n_train+n_val]]\n",
    "df_test = df.iloc[idx[n_train+n_val:]]\n",
    "\n",
    "#could have used train_test_split"
   ]
  },
  {
   "cell_type": "code",
   "execution_count": 14,
   "id": "22942dc6-e410-4ad0-9534-5e7753866ef3",
   "metadata": {},
   "outputs": [
    {
     "data": {
      "text/html": [
       "<div>\n",
       "<style scoped>\n",
       "    .dataframe tbody tr th:only-of-type {\n",
       "        vertical-align: middle;\n",
       "    }\n",
       "\n",
       "    .dataframe tbody tr th {\n",
       "        vertical-align: top;\n",
       "    }\n",
       "\n",
       "    .dataframe thead th {\n",
       "        text-align: right;\n",
       "    }\n",
       "</style>\n",
       "<table border=\"1\" class=\"dataframe\">\n",
       "  <thead>\n",
       "    <tr style=\"text-align: right;\">\n",
       "      <th></th>\n",
       "      <th>engine_displacement</th>\n",
       "      <th>horsepower</th>\n",
       "      <th>vehicle_weight</th>\n",
       "      <th>model_year</th>\n",
       "      <th>fuel_efficiency_mpg</th>\n",
       "    </tr>\n",
       "  </thead>\n",
       "  <tbody>\n",
       "    <tr>\n",
       "      <th>483</th>\n",
       "      <td>220</td>\n",
       "      <td>144.0</td>\n",
       "      <td>2535.887591</td>\n",
       "      <td>2009</td>\n",
       "      <td>16.642943</td>\n",
       "    </tr>\n",
       "    <tr>\n",
       "      <th>7506</th>\n",
       "      <td>160</td>\n",
       "      <td>141.0</td>\n",
       "      <td>2741.170484</td>\n",
       "      <td>2019</td>\n",
       "      <td>16.298377</td>\n",
       "    </tr>\n",
       "    <tr>\n",
       "      <th>8795</th>\n",
       "      <td>230</td>\n",
       "      <td>155.0</td>\n",
       "      <td>2471.880237</td>\n",
       "      <td>2017</td>\n",
       "      <td>18.591822</td>\n",
       "    </tr>\n",
       "    <tr>\n",
       "      <th>1688</th>\n",
       "      <td>150</td>\n",
       "      <td>206.0</td>\n",
       "      <td>3748.164469</td>\n",
       "      <td>2015</td>\n",
       "      <td>11.818843</td>\n",
       "    </tr>\n",
       "    <tr>\n",
       "      <th>6217</th>\n",
       "      <td>300</td>\n",
       "      <td>111.0</td>\n",
       "      <td>2135.716359</td>\n",
       "      <td>2006</td>\n",
       "      <td>19.402209</td>\n",
       "    </tr>\n",
       "  </tbody>\n",
       "</table>\n",
       "</div>"
      ],
      "text/plain": [
       "      engine_displacement  horsepower  vehicle_weight  model_year  \\\n",
       "483                   220       144.0     2535.887591        2009   \n",
       "7506                  160       141.0     2741.170484        2019   \n",
       "8795                  230       155.0     2471.880237        2017   \n",
       "1688                  150       206.0     3748.164469        2015   \n",
       "6217                  300       111.0     2135.716359        2006   \n",
       "\n",
       "      fuel_efficiency_mpg  \n",
       "483             16.642943  \n",
       "7506            16.298377  \n",
       "8795            18.591822  \n",
       "1688            11.818843  \n",
       "6217            19.402209  "
      ]
     },
     "execution_count": 14,
     "metadata": {},
     "output_type": "execute_result"
    }
   ],
   "source": [
    "df_train.head()"
   ]
  },
  {
   "cell_type": "code",
   "execution_count": 15,
   "id": "7fbbf379-fd6b-4c96-9e67-703ef19421dc",
   "metadata": {},
   "outputs": [],
   "source": [
    "df_train.reset_index(drop=True, inplace=True)\n",
    "df_test.reset_index(drop=True, inplace=True)\n",
    "df_val.reset_index(drop=True, inplace=True)"
   ]
  },
  {
   "cell_type": "code",
   "execution_count": 16,
   "id": "1b69468f-16d9-43f0-9b6b-fa90de8fc2d9",
   "metadata": {},
   "outputs": [],
   "source": [
    "y_train = df_train.fuel_efficiency_mpg.values\n",
    "y_test = df_test.fuel_efficiency_mpg.values\n",
    "y_val = df_val.fuel_efficiency_mpg.values"
   ]
  },
  {
   "cell_type": "code",
   "execution_count": 17,
   "id": "0ef2e646-81de-4244-b75a-e42f073b54d2",
   "metadata": {},
   "outputs": [
    {
     "data": {
      "text/html": [
       "<div>\n",
       "<style scoped>\n",
       "    .dataframe tbody tr th:only-of-type {\n",
       "        vertical-align: middle;\n",
       "    }\n",
       "\n",
       "    .dataframe tbody tr th {\n",
       "        vertical-align: top;\n",
       "    }\n",
       "\n",
       "    .dataframe thead th {\n",
       "        text-align: right;\n",
       "    }\n",
       "</style>\n",
       "<table border=\"1\" class=\"dataframe\">\n",
       "  <thead>\n",
       "    <tr style=\"text-align: right;\">\n",
       "      <th></th>\n",
       "      <th>engine_displacement</th>\n",
       "      <th>horsepower</th>\n",
       "      <th>vehicle_weight</th>\n",
       "      <th>model_year</th>\n",
       "    </tr>\n",
       "  </thead>\n",
       "  <tbody>\n",
       "    <tr>\n",
       "      <th>0</th>\n",
       "      <td>220</td>\n",
       "      <td>144.0</td>\n",
       "      <td>2535.887591</td>\n",
       "      <td>2009</td>\n",
       "    </tr>\n",
       "    <tr>\n",
       "      <th>1</th>\n",
       "      <td>160</td>\n",
       "      <td>141.0</td>\n",
       "      <td>2741.170484</td>\n",
       "      <td>2019</td>\n",
       "    </tr>\n",
       "    <tr>\n",
       "      <th>2</th>\n",
       "      <td>230</td>\n",
       "      <td>155.0</td>\n",
       "      <td>2471.880237</td>\n",
       "      <td>2017</td>\n",
       "    </tr>\n",
       "    <tr>\n",
       "      <th>3</th>\n",
       "      <td>150</td>\n",
       "      <td>206.0</td>\n",
       "      <td>3748.164469</td>\n",
       "      <td>2015</td>\n",
       "    </tr>\n",
       "    <tr>\n",
       "      <th>4</th>\n",
       "      <td>300</td>\n",
       "      <td>111.0</td>\n",
       "      <td>2135.716359</td>\n",
       "      <td>2006</td>\n",
       "    </tr>\n",
       "  </tbody>\n",
       "</table>\n",
       "</div>"
      ],
      "text/plain": [
       "   engine_displacement  horsepower  vehicle_weight  model_year\n",
       "0                  220       144.0     2535.887591        2009\n",
       "1                  160       141.0     2741.170484        2019\n",
       "2                  230       155.0     2471.880237        2017\n",
       "3                  150       206.0     3748.164469        2015\n",
       "4                  300       111.0     2135.716359        2006"
      ]
     },
     "execution_count": 17,
     "metadata": {},
     "output_type": "execute_result"
    }
   ],
   "source": [
    "del df_train['fuel_efficiency_mpg']\n",
    "del df_test['fuel_efficiency_mpg']\n",
    "del df_val['fuel_efficiency_mpg']\n",
    "\n",
    "df_train.head()"
   ]
  },
  {
   "cell_type": "markdown",
   "id": "01142241-fd5b-453e-8d9b-e4b238f853a4",
   "metadata": {},
   "source": [
    "# REGRESSION"
   ]
  },
  {
   "cell_type": "code",
   "execution_count": 18,
   "id": "06c0944d-cd5a-47d9-829d-cf1096387f97",
   "metadata": {},
   "outputs": [],
   "source": [
    "fillwith = lambda val, *args: [ a.fillna({\"horsepower\": val}) for a in args]"
   ]
  },
  {
   "cell_type": "markdown",
   "id": "39c8ef0a-3d38-485a-baab-a0ef54283fc6",
   "metadata": {},
   "source": [
    "## Using mean"
   ]
  },
  {
   "cell_type": "code",
   "execution_count": 19,
   "id": "6754f4e2-3e27-42b4-b97c-a20a1de75b74",
   "metadata": {},
   "outputs": [],
   "source": [
    "mean = df_train.horsepower.mean()\n",
    "df_train_mean, df_test_mean, df_val_mean = fillwith(mean, df_train, df_test, df_val)"
   ]
  },
  {
   "cell_type": "code",
   "execution_count": 20,
   "id": "f38f1b7b-fdf9-4889-a701-a34d2cc03793",
   "metadata": {},
   "outputs": [],
   "source": [
    "X = np.hstack((np.ones((df_train.shape[0],1)), df_train_mean.values))\n",
    "X_val = np.hstack((np.ones((df_val_mean.shape[0],1)), df_val_mean.values))"
   ]
  },
  {
   "cell_type": "code",
   "execution_count": 21,
   "id": "ceebd29c-b973-47d0-b8ee-37387c1fc284",
   "metadata": {},
   "outputs": [
    {
     "data": {
      "text/plain": [
       "np.float64(0.46359650423345844)"
      ]
     },
     "execution_count": 21,
     "metadata": {},
     "output_type": "execute_result"
    }
   ],
   "source": [
    "w = np.linalg.inv(X.T@X)@X.T@y_train\n",
    "rmse = ((X_val@w - y_val)**2).mean()**.5\n",
    "rmse"
   ]
  },
  {
   "cell_type": "markdown",
   "id": "f6298f37-c7a1-4c43-bc1c-566b85074581",
   "metadata": {},
   "source": [
    "## Using zeroes"
   ]
  },
  {
   "cell_type": "code",
   "execution_count": 22,
   "id": "e883aed4-032a-4e9f-bb6e-3326e7562ab5",
   "metadata": {},
   "outputs": [
    {
     "data": {
      "text/plain": [
       "np.float64(0.5173782638844465)"
      ]
     },
     "execution_count": 22,
     "metadata": {},
     "output_type": "execute_result"
    }
   ],
   "source": [
    "# this is strange we are doing that since it will shift all my distributions and give worse results than mean\n",
    "\n",
    "df_train_zeros, df_test_zeros, df_val_zeros = fillwith(0, df_train, df_test, df_val)\n",
    "\n",
    "X = np.hstack((np.ones((df_train_zeros.shape[0],1)), df_train_zeros.values))\n",
    "X_val = np.hstack((np.ones((df_val_zeros.shape[0],1)), df_val_zeros.values))\n",
    "\n",
    "w = np.linalg.inv(X.T@X)@X.T@y_train\n",
    "rmse = ((X_val@w - y_val)**2).mean()**.5\n",
    "rmse"
   ]
  },
  {
   "cell_type": "code",
   "execution_count": 23,
   "id": "9e22225c-bbbe-41da-9941-178c18afb634",
   "metadata": {},
   "outputs": [
    {
     "data": {
      "text/plain": [
       "<Axes: ylabel='Count'>"
      ]
     },
     "execution_count": 23,
     "metadata": {},
     "output_type": "execute_result"
    },
    {
     "data": {
      "image/png": "[encoded data removed]",
      "text/plain": [
       "<Figure size 640x480 with 1 Axes>"
      ]
     },
     "metadata": {},
     "output_type": "display_data"
    }
   ],
   "source": [
    "sns.histplot(X_val@w, color='red', bins=50)\n",
    "sns.histplot(y_val, color='green', bins=50)"
   ]
  },
  {
   "cell_type": "code",
   "execution_count": 24,
   "id": "0afbe983-f200-46c7-a355-b8539609cc7b",
   "metadata": {},
   "outputs": [],
   "source": [
    "# Ridge normalization (adding small values to the eigenvalues of X.T@X to make sure vector X.T@y does not explode)\n",
    "R = [0, 0.01, 0.1, 1, 5, 10, 100]\n",
    "rmse_damped = [((X_val @ np.linalg.inv(X.T@X + r*np.identity(X.shape[1]))@X.T@y_train - y_val)**2).mean()**.5 for r in R]"
   ]
  },
  {
   "cell_type": "code",
   "execution_count": 25,
   "id": "4c869571-5019-4956-be3a-f47a587fe29f",
   "metadata": {},
   "outputs": [
    {
     "data": {
      "text/plain": [
       "[np.float64(0.5173782638894002),\n",
       " np.float64(0.5171115525760246),\n",
       " np.float64(0.5187525130714695),\n",
       " np.float64(0.5222348802093596),\n",
       " np.float64(0.522891609282388),\n",
       " np.float64(0.5229812979636335),\n",
       " np.float64(0.5230636233819945)]"
      ]
     },
     "execution_count": 25,
     "metadata": {},
     "output_type": "execute_result"
    }
   ],
   "source": [
    "rmse_damped\n",
    "#[np.round(val, decimals=2) for val in rmse_damped]"
   ]
  },
  {
   "cell_type": "code",
   "execution_count": 26,
   "id": "d11a83a2-fab1-48a7-9818-0a99dbe00e14",
   "metadata": {},
   "outputs": [
    {
     "name": "stdout",
     "output_type": "stream",
     "text": [
      "[6.39063152e-02 1.34440399e+07 1.42553528e+07 4.45675062e+08\n",
      " 7.75543128e+10]\n"
     ]
    }
   ],
   "source": [
    "eigvals = np.linalg.eigvalsh(X.T @ X)\n",
    "print(eigvals)\n"
   ]
  },
  {
   "cell_type": "markdown",
   "id": "b3c0399b-e086-43bd-9d12-87701695acd9",
   "metadata": {},
   "source": [
    "So we know that Hessian of Linear regression is 2X.TX and in the LR formula we take an inverse of half of this (X.TX)-1. we know that hessian is symmetric cuz df/dx1d2 = df/dx2dx1 which allows us to perform SVD on it. So whatever vector is X.T*y it is being essentially linearly transformed by inverse hessian so most prominent transformation directions are along eigenvectors with smallest eigenvalues (since H is inverse). So we bump those values a little bit to decrease contributions.\n",
    "\n",
    "RMSE for different values of r almost doesnt change because my hessian eigenvalues either tiny or huge. so i should choose either small r which makes almost no diff for huge eigenvalues or huge r which will regularize my small ones like hell. Those are regularized rmse values with different r:\n",
    "```\n",
    "[np.float64(0.5165003926235892),\n",
    " np.float64(0.5165892658555999),\n",
    " np.float64(0.5194055692705319),\n",
    " np.float64(0.5236285280576382),\n",
    " np.float64(0.5243861811918874),\n",
    " np.float64(0.5244890955846669),\n",
    " np.float64(0.5245834136669432)]\n",
    " ```\n",
    "here's the hessian xtx eigenvalues\n",
    "```\n",
    "eigvals = np.linalg.eigvalsh(X.T @ X)\n",
    "print(eigvals)\n",
    "[6.39063152e-02 1.34440399e+07 1.42553528e+07 4.45675062e+08\n",
    " 7.75543128e+10]\n",
    " ```\n",
    "See the diif? Either it should mentioned we should normalize the data or ridge is pointless. Gonna redo below with feature normalization."
   ]
  },
  {
   "cell_type": "code",
   "execution_count": 27,
   "id": "cb186ea4-a93d-4f37-9d93-a450573740ee",
   "metadata": {},
   "outputs": [
    {
     "name": "stdout",
     "output_type": "stream",
     "text": [
      "RMSE w/o ridge: 0.517378263884094\n"
     ]
    },
    {
     "data": {
      "text/plain": [
       "[np.float64(0.517378263884094),\n",
       " np.float64(0.5173782024644953),\n",
       " np.float64(0.5173777093628829),\n",
       " np.float64(0.5173786841506897),\n",
       " np.float64(0.5175126911169711),\n",
       " np.float64(0.5179766453365773),\n",
       " np.float64(0.5773682238334296)]"
      ]
     },
     "execution_count": 27,
     "metadata": {},
     "output_type": "execute_result"
    }
   ],
   "source": [
    "max_year = df_train_zeros.model_year.max()\n",
    "\n",
    "def add_age(df):\n",
    "    df = df.copy()\n",
    "    df[\"age\"] = max_year - df.model_year\n",
    "    del df['model_year']\n",
    "    return df\n",
    "\n",
    "df_train_zeros_normalized = add_age(df_train_zeros)\n",
    "df_train_zeros_normalized_mean = df_train_zeros_normalized.mean()\n",
    "df_train_zeros_normalized_std = df_train_zeros_normalized.std()\n",
    "df_train_zeros_normalized = (df_train_zeros_normalized - df_train_zeros_normalized_mean )/df_train_zeros_normalized_std\n",
    "\n",
    "df_val_zeros_normalized = add_age(df_val_zeros)\n",
    "df_val_zeros_normalized = (df_val_zeros_normalized - df_train_zeros_normalized_mean)/df_train_zeros_normalized_std\n",
    "\n",
    "df_test_zeros_normalized = add_age(df_test_zeros)\n",
    "df_test_zeros_normalized = (df_test_zeros_normalized - df_train_zeros_normalized_mean)/df_train_zeros_normalized_std\n",
    "\n",
    "X_train_norm = np.hstack((np.ones((df_train_zeros_normalized.shape[0],1)), df_train_zeros_normalized.values))\n",
    "X_val_norm = np.hstack((np.ones((df_val_zeros_normalized.shape[0],1)), df_val_zeros_normalized.values))\n",
    "X_test_norm = np.hstack((np.ones((df_test_zeros_normalized.shape[0],1)), df_test_zeros_normalized.values))\n",
    "\n",
    "w_norm = np.linalg.inv(X_train_norm.T@X_train_norm)@X_train_norm.T@y_train\n",
    "\n",
    "rmse_wo_ridge = ((X_val_norm@w_norm - y_val)**2).mean()**.5\n",
    "print(f\"RMSE w/o ridge: {rmse_wo_ridge}\")\n",
    "\n",
    "R = [0, 0.01, 0.1, 1, 5, 10, 100]\n",
    "rmse_damped = [((X_val_norm @ (np.linalg.inv(X_train_norm.T@X_train_norm + r*np.identity(X_train_norm.shape[1]))@X_train_norm.T@y_train) - y_val)**2).mean()**.5 for r in R]\n",
    "rmse_damped\n",
    "\n",
    "\n"
   ]
  },
  {
   "cell_type": "markdown",
   "id": "fa194a70",
   "metadata": {},
   "source": [
    "OK now we see actual effect happens between values 10 and 100. Lowest rmse is 0, meaning the data is well distributed and no regularization needed since it fits val data well enough"
   ]
  },
  {
   "cell_type": "markdown",
   "id": "42aa1fca-8572-46e0-9269-61bca7302671",
   "metadata": {},
   "source": [
    "# Question 5"
   ]
  },
  {
   "cell_type": "code",
   "execution_count": 28,
   "id": "a7c3a473-b6e3-4769-abd4-924a7abc4301",
   "metadata": {},
   "outputs": [
    {
     "data": {
      "text/plain": [
       "np.float64(0.006989446426433686)"
      ]
     },
     "execution_count": 28,
     "metadata": {},
     "output_type": "execute_result"
    }
   ],
   "source": [
    "seeds = [ 0, 1, 2, 3, 4, 5, 6, 7, 8, 9] \n",
    "rmses = []\n",
    "for seed in seeds:\n",
    "    np.random.seed(seed)\n",
    "    np.random.shuffle(idx:=np.arange(n))\n",
    "        \n",
    "    df_train = df.iloc[idx[:n_train]].reset_index(drop=True)\n",
    "    df_val = df.iloc[idx[n_train:n_train+n_val]].reset_index(drop=True)\n",
    "    \n",
    "    y_train = df_train.fuel_efficiency_mpg.values\n",
    "    y_val = df_val.fuel_efficiency_mpg.values\n",
    "    \n",
    "    del df_train['fuel_efficiency_mpg']\n",
    "    del df_val['fuel_efficiency_mpg']\n",
    "    df_train,df_val = fillwith(0., df_train, df_val)\n",
    "    \n",
    "    X = np.hstack((np.ones((df_train.shape[0],1)), df_train.values))\n",
    "    X_val = np.hstack((np.ones((df_val.shape[0],1)), df_val.values))\n",
    "    \n",
    "    w = np.linalg.inv(X.T@X)@X.T@y_train\n",
    "    rmse = ((X_val@w - y_val)**2).mean()**.5\n",
    "    rmses.append(rmse)\n",
    "np.array(rmses).std()"
   ]
  },
  {
   "cell_type": "markdown",
   "id": "6a58f0de-ef2a-4cb4-a26b-01d1a3ba41e7",
   "metadata": {},
   "source": [
    "# Question 6"
   ]
  },
  {
   "cell_type": "code",
   "execution_count": 29,
   "id": "e63e0d63-15db-4fbc-9f84-55371642ec45",
   "metadata": {},
   "outputs": [
    {
     "data": {
      "text/plain": [
       "np.float64(0.5156261299169602)"
      ]
     },
     "execution_count": 29,
     "metadata": {},
     "output_type": "execute_result"
    }
   ],
   "source": [
    "np.random.seed(9)\n",
    "np.random.shuffle(idx:=np.arange(n))\n",
    "    \n",
    "df_train = pd.concat([df.iloc[idx[:n_train]].reset_index(drop=True),\n",
    "                     df.iloc[idx[n_train:n_train+n_val]].reset_index(drop=True)])\n",
    "y_train = df_train.fuel_efficiency_mpg.values\n",
    "\n",
    "df_test = df.iloc[idx[n_train+n_val:]]\n",
    "y_test = df_test.fuel_efficiency_mpg.values\n",
    "\n",
    "del df_train['fuel_efficiency_mpg']\n",
    "del df_test['fuel_efficiency_mpg']\n",
    "\n",
    "df_train,df_test = fillwith(0., df_train, df_test)\n",
    "\n",
    "X = np.hstack((np.ones((df_train.shape[0],1)), df_train.values))\n",
    "X_test = np.hstack((np.ones((df_test.shape[0],1)), df_test.values))\n",
    "\n",
    "w = np.linalg.inv(X.T@X + 0.001*np.identity(X.shape[1]))@X.T@y_train\n",
    "rmse = ((X_test@w - y_test)**2).mean()**.5\n",
    "rmse"
   ]
  },
  {
   "cell_type": "code",
   "execution_count": 30,
   "id": "0e85e6b8-e9a5-4e57-88f0-47c678fd03e0",
   "metadata": {},
   "outputs": [
    {
     "data": {
      "text/plain": [
       "\u001b[31mSignature:\u001b[39m print(*args, sep=\u001b[33m' '\u001b[39m, end=\u001b[33m'\\n'\u001b[39m, file=\u001b[38;5;28;01mNone\u001b[39;00m, flush=\u001b[38;5;28;01mFalse\u001b[39;00m)\n",
       "\u001b[31mDocstring:\u001b[39m\n",
       "Prints the values to a stream, or to sys.stdout by default.\n",
       "\n",
       "sep\n",
       "  string inserted between values, default a space.\n",
       "end\n",
       "  string appended after the last value, default a newline.\n",
       "file\n",
       "  a file-like object (stream); defaults to the current sys.stdout.\n",
       "flush\n",
       "  whether to forcibly flush the stream.\n",
       "\u001b[31mType:\u001b[39m      builtin_function_or_method"
      ]
     },
     "metadata": {},
     "output_type": "display_data"
    }
   ],
   "source": [
    "import numpy as np\n",
    "print?"
   ]
  },
  {
   "cell_type": "code",
   "execution_count": 31,
   "id": "63f15fa9-e1fc-4cf7-92a4-6105921174a3",
   "metadata": {},
   "outputs": [],
   "source": [
    "# PLAY"
   ]
  },
  {
   "cell_type": "code",
   "execution_count": 79,
   "id": "cb7eae6e-842e-49ae-b399-5ba1702751f0",
   "metadata": {},
   "outputs": [
    {
     "name": "stdout",
     "output_type": "stream",
     "text": [
      "0    0.070155\n",
      "dtype: float64\n"
     ]
    },
    {
     "data": {
      "image/png": "[encoded data removed]",
      "text/plain": [
       "<Figure size 640x480 with 1 Axes>"
      ]
     },
     "metadata": {},
     "output_type": "display_data"
    }
   ],
   "source": [
    "from sklearn.preprocessing import StandardScaler\n",
    "import matplotlib.pyplot as plt\n",
    "import pandas as pd\n",
    "\n",
    "scaler = StandardScaler()\n",
    "\n",
    "x_scaled = scaler.fit_transform(df_train[[\"horsepower\"]]).ravel()\n",
    "y_scaled = scaler.fit_transform(pd.DataFrame(y_train)).ravel()\n",
    "\n",
    "print(pd.DataFrame(x_scaled).corrwith(pd.DataFrame(y_scaled)))\n",
    "\n",
    "plt.scatter(x_scaled, y_scaled, alpha=0.6, color='red', s=1)\n",
    "plt.xlabel(\"Scaled horsepower\")\n",
    "plt.ylabel(\"Scaled mpg\")\n",
    "plt.title(\"Horsepower vs MPG (Standardized)\")\n",
    "plt.show()"
   ]
  },
  {
   "cell_type": "code",
   "execution_count": 58,
   "id": "eab33763-e922-4297-88d0-56d31af95cd1",
   "metadata": {},
   "outputs": [
    {
     "data": {
      "image/png": "[encoded data removed]",
      "text/plain": [
       "<Figure size 640x480 with 1 Axes>"
      ]
     },
     "metadata": {},
     "output_type": "display_data"
    }
   ],
   "source": [
    "from sklearn.preprocessing import StandardScaler\n",
    "import matplotlib.pyplot as plt\n",
    "import pandas as pd\n",
    "\n",
    "scaler = StandardScaler()\n",
    "\n",
    "x_scaled = scaler.fit_transform(df_train[[\"vehicle_weight\"]]).ravel()\n",
    "y_scaled = scaler.fit_transform(pd.DataFrame(y_train)).ravel()\n",
    "\n",
    "plt.scatter(x_scaled, y_scaled, alpha=0.6, color='red', s=1)\n",
    "plt.xlabel(\"Scaled weight\")\n",
    "plt.ylabel(\"Scaled mpg\")\n",
    "plt.title(\"Weight vs MPG (Standardized)\")\n",
    "plt.show()\n"
   ]
  },
  {
   "cell_type": "code",
   "execution_count": 89,
   "id": "be390a79-5a83-4e08-9116-974e21108cf1",
   "metadata": {},
   "outputs": [
    {
     "name": "stdout",
     "output_type": "stream",
     "text": [
      "horsepower    0.122041\n",
      "dtype: float64\n",
      "horsepower    0.054361\n",
      "dtype: float64\n"
     ]
    }
   ],
   "source": [
    "print(df[[\"horsepower\"]].corrwith(df.fuel_efficiency_mpg))\n",
    "print(df_train[[\"horsepower\"]].corrwith(pd.DataFrame(y_train).iloc[:,0]))"
   ]
  },
  {
   "cell_type": "code",
   "execution_count": 71,
   "id": "2360ccc9-8799-4781-a291-bce8f2f954bc",
   "metadata": {},
   "outputs": [
    {
     "data": {
      "text/plain": [
       "engine_displacement    0\n",
       "horsepower             0\n",
       "vehicle_weight         0\n",
       "model_year             0\n",
       "dtype: int64"
      ]
     },
     "execution_count": 71,
     "metadata": {},
     "output_type": "execute_result"
    }
   ],
   "source": []
  },
  {
   "cell_type": "code",
   "execution_count": null,
   "id": "7b8f6796-ad6e-43a5-bf44-978ad501be9b",
   "metadata": {},
   "outputs": [],
   "source": []
  }
 ],
 "metadata": {
  "kernelspec": {
   "display_name": "Python 3 (ipykernel)",
   "language": "python",
   "name": "python3"
  },
  "language_info": {
   "codemirror_mode": {
    "name": "ipython",
    "version": 3
   },
   "file_extension": ".py",
   "mimetype": "text/x-python",
   "name": "python",
   "nbconvert_exporter": "python",
   "pygments_lexer": "ipython3",
   "version": "3.12.7"
  }
 },
 "nbformat": 4,
 "nbformat_minor": 5
}
